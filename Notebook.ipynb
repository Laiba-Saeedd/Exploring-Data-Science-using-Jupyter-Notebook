{
 "cells": [
  {
   "cell_type": "markdown",
   "id": "a49661ec-ca20-46f3-a928-560d0ba0ad89",
   "metadata": {},
   "source": [
    "# Notebook"
   ]
  },
  {
   "cell_type": "markdown",
   "id": "c90ce3bc-d120-4a00-b9f3-ada09bf0d6fa",
   "metadata": {},
   "source": [
    "## Introduction\n",
    "This notebook is designed to explore and analyze the given dataset, perform data cleaning, visualization, and apply machine learning techniques where applicable. The aim is to derive insights, identify patterns, and present the findings in a clear and understandable manner."
   ]
  },
  {
   "cell_type": "markdown",
   "id": "56cf9408-4385-4791-8587-c3c3701c7181",
   "metadata": {},
   "source": [
    "## Data Science Languages\n",
    "\n",
    "- Python  \n",
    "- R  \n",
    "- SQL  \n",
    "- Julia  \n",
    "- Scala  \n",
    "- Java  \n",
    "- MATLAB  "
   ]
  },
  {
   "cell_type": "markdown",
   "id": "45beaf45-ba8a-48a6-b8d7-85449915f6ed",
   "metadata": {},
   "source": [
    "## Data Science Libraries\n",
    "\n",
    "- **NumPy** – For numerical computing and array operations  \n",
    "- **Pandas** – For data manipulation and analysis  \n",
    "- **Matplotlib** – For creating static, animated, and interactive visualizations  \n",
    "- **Seaborn** – For statistical data visualization based on Matplotlib  \n",
    "- **Scikit-learn** – For machine learning and data mining  \n",
    "- **TensorFlow** – For deep learning and neural networks  \n",
    "- **Keras** – High-level API for building deep learning models  \n",
    "- **PyTorch** – For deep learning research and production  "
   ]
  },
  {
   "cell_type": "markdown",
   "id": "cfa3ffe7-6608-4e2a-b803-bb13806b9fd2",
   "metadata": {},
   "source": [
    "## Data Science Tools\n",
    "\n",
    "| Tool            | Category              | Description |\n",
    "|-----------------|-----------------------|-------------|\n",
    "| Jupyter Notebook| IDE / Notebook        | Interactive environment for running code, visualizing data, and documenting analysis. \n",
    "| RStudio         | IDE                   | Integrated development environment for R programming. \n",
    "| Apache Spark    | Big Data Processing   | Framework for large-scale data processing and analytics. \n",
    "| TensorFlow      | Machine Learning / AI | Open-source library for deep learning and neural networks. \n",
    "| Tableau         | Data Visualization    | Tool for creating interactive and shareable dashboards. \n",
    "| Power BI        | Data Visualization    | Business analytics service for visualizing and sharing insights. "
   ]
  },
  {
   "cell_type": "markdown",
   "id": "036f6975-637a-47c3-9bd2-33aa075a95b7",
   "metadata": {},
   "source": [
    "## Arithmetic Expression Examples\n",
    "\n",
    "Arithmetic expressions are mathematical formulas used to perform operations such as addition, subtraction, multiplication, and division.  \n",
    "They can also include more complex operations like exponentiation and modulus.  \n",
    "Below are some examples demonstrating different types of arithmetic expressions."
   ]
  },
  {
   "cell_type": "code",
   "execution_count": 1,
   "id": "b73f1d99-28a7-4dbd-93f3-9627bc7b9a7a",
   "metadata": {},
   "outputs": [
    {
     "name": "stdout",
     "output_type": "stream",
     "text": [
      "Multiplication Result: 15\n",
      "Addition Result: 8\n"
     ]
    }
   ],
   "source": [
    "# Multiplication and Addition Example\n",
    "\n",
    "# Define numbers\n",
    "a = 5\n",
    "b = 3\n",
    "\n",
    "# Perform multiplication\n",
    "multiplication_result = a * b\n",
    "\n",
    "# Perform addition\n",
    "addition_result = a + b\n",
    "\n",
    "# Display results\n",
    "print(\"Multiplication Result:\", multiplication_result)\n",
    "print(\"Addition Result:\", addition_result)"
   ]
  },
  {
   "cell_type": "code",
   "execution_count": 2,
   "id": "1c5e79ff-c37d-44e0-b054-ff4b20864430",
   "metadata": {},
   "outputs": [
    {
     "name": "stdout",
     "output_type": "stream",
     "text": [
      "150 minutes is equal to 2.5 hours.\n"
     ]
    }
   ],
   "source": [
    "# Convert minutes to hours\n",
    "\n",
    "# Define minutes\n",
    "minutes = 150\n",
    "\n",
    "# Conversion\n",
    "hours = minutes / 60\n",
    "\n",
    "# Display result\n",
    "print(f\"{minutes} minutes is equal to {hours} hours.\")"
   ]
  },
  {
   "cell_type": "markdown",
   "id": "94335499-50e8-4825-ae14-ea080d85a9f0",
   "metadata": {},
   "source": [
    "## Objectives\n",
    "\n",
    "The main objectives of this notebook are:\n",
    "\n",
    "- To explore and understand the dataset.  \n",
    "- To perform data cleaning and preprocessing.  \n",
    "- To visualize key insights from the data.  \n",
    "- To apply relevant machine learning models.  \n",
    "- To evaluate model performance and interpret results.  \n",
    "- To summarize findings and provide recommendations.  "
   ]
  },
  {
   "cell_type": "markdown",
   "id": "d6629ea2-f9ab-4d0f-a27a-ce26b6c7a8ed",
   "metadata": {},
   "source": [
    "## Author\n",
    "\n",
    "**Name:** Laiba Saeed"
   ]
  }
 ],
 "metadata": {
  "kernelspec": {
   "display_name": "Python 3 (ipykernel)",
   "language": "python",
   "name": "python3"
  },
  "language_info": {
   "codemirror_mode": {
    "name": "ipython",
    "version": 3
   },
   "file_extension": ".py",
   "mimetype": "text/x-python",
   "name": "python",
   "nbconvert_exporter": "python",
   "pygments_lexer": "ipython3",
   "version": "3.10.0"
  }
 },
 "nbformat": 4,
 "nbformat_minor": 5
}
